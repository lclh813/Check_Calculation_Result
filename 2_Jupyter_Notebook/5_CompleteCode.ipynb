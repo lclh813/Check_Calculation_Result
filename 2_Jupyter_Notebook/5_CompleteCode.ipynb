{
 "cells": [
  {
   "cell_type": "markdown",
   "metadata": {},
   "source": [
    "# Check Calculation Results"
   ]
  },
  {
   "cell_type": "markdown",
   "metadata": {},
   "source": [
    "# 1. Preparation"
   ]
  },
  {
   "cell_type": "markdown",
   "metadata": {},
   "source": [
    "## 1.1. Import Standard Library"
   ]
  },
  {
   "cell_type": "code",
   "execution_count": null,
   "metadata": {},
   "outputs": [],
   "source": [
    "import pandas as pd\n",
    "# Progress bar\n",
    "from tqdm import tqdm_notebook\n",
    "# Datetime format\n",
    "from datetime import datetime\n",
    "# Calculate time difference between given dates.\n",
    "from dateutil.relativedelta import relativedelta"
   ]
  },
  {
   "cell_type": "markdown",
   "metadata": {},
   "source": [
    "## 1.2. Import SQL Library"
   ]
  },
  {
   "cell_type": "code",
   "execution_count": null,
   "metadata": {},
   "outputs": [],
   "source": [
    "import sqlite3\n",
    "# Go through given folder and return the list of files.\n",
    "import glob\n",
    "import csv"
   ]
  },
  {
   "cell_type": "markdown",
   "metadata": {},
   "source": [
    "## 1.3. Import Excel Library"
   ]
  },
  {
   "cell_type": "code",
   "execution_count": null,
   "metadata": {},
   "outputs": [],
   "source": [
    "# Automate Excel with Python\n",
    "import xlwings as xw"
   ]
  },
  {
   "cell_type": "markdown",
   "metadata": {},
   "source": [
    "# 2. Check Original Data\n",
    "- Check if the original data is imported into Excel correctly."
   ]
  },
  {
   "cell_type": "markdown",
   "metadata": {},
   "source": [
    "## 2.1. Create Database"
   ]
  },
  {
   "cell_type": "code",
   "execution_count": null,
   "metadata": {},
   "outputs": [],
   "source": [
    "# Define Function to Execute Database Commands.\n",
    "def execute_db(fname, sql_cmd):\n",
    "    # Establish a connection to SQLite database by creating a connection object \"conn.\"\n",
    "    conn = sqlite3.connect(fname)\n",
    "    # Create a cursor object using the cursor method of \"conn.\"\n",
    "    c = conn.cursor()\n",
    "    # Call the cursor’s execute method. \n",
    "    c.execute(sql_cmd)\n",
    "    # Save the changes.\n",
    "    conn.commit()\n",
    "    # Close the connection.\n",
    "    conn.close()"
   ]
  },
  {
   "cell_type": "code",
   "execution_count": null,
   "metadata": {},
   "outputs": [],
   "source": [
    "# Define Function to Select Data from Database.\n",
    "def select_db(fname, sql_cmd):\n",
    "    # Establish a connection to SQLite database by creating a connection object \"conn.\"\n",
    "    conn = sqlite3.connect(fname)\n",
    "    # Create a cursor object using the cursor method of \"conn.\"\n",
    "    c = conn.cursor()\n",
    "    # Call the cursor’s execute method. \n",
    "    c.execute(sql_cmd)\n",
    "    # Fetch all rows of a query result.\n",
    "    rows = c.fetchall()\n",
    "    # Close the connection.\n",
    "    conn.close()\n",
    "    # Return query results. \n",
    "    return rows"
   ]
  },
  {
   "cell_type": "code",
   "execution_count": null,
   "metadata": {},
   "outputs": [],
   "source": [
    "# Create a Blank Database\n",
    "# Create a SQLite database file named \"db.\" \n",
    "db_name = \"db.sqlite\"\n",
    "# Create a table named \"Data.\"\n",
    "cmd = (\"CREATE TABLE Data \"\n",
    "       \"(id INTEGER PRIMARY KEY AUTOINCREMENT, \"\n",
    "       \"Time DATETIME, Category TEXT, Channel TEXT, Sales REAL)\")\n",
    "# Execute function \"execute_db\" with \"db_name\" and \"sql_cmd\" being specified. \n",
    "execute_db(db_name, cmd)"
   ]
  },
  {
   "cell_type": "code",
   "execution_count": null,
   "metadata": {},
   "outputs": [],
   "source": [
    "# Import Data into Database\n",
    "# Find all files in the specific directory. \n",
    "files = glob.glob(\"G:\\\\Data1\\\\*.xls\")\n",
    "\n",
    "for file in files:\n",
    "    # Import data from all the xls files. \n",
    "    data = pd.read_excel(file)\n",
    "    # Establish a connection to SQLite database \"db.\"\n",
    "    con = sqlite3.connect(\"db.sqlite\")\n",
    "    # Write records stored in dataframe \"data\" to table \"Data\" in SQLite database \"db.\"\n",
    "    # If table \"Data\" already exists, insert new values to the existing table.\n",
    "    data.to_sql(\"Data\", con, index = False, if_exists = \"append\")\n",
    "    # Save the changes.\n",
    "    con.commit()\n",
    "    # Close the connection.\n",
    "    con.close() "
   ]
  },
  {
   "cell_type": "markdown",
   "metadata": {},
   "source": [
    "## 2.2. Import Database Data"
   ]
  },
  {
   "cell_type": "code",
   "execution_count": null,
   "metadata": {},
   "outputs": [],
   "source": [
    "# Establish a connection to SQLite database \"db.\"\n",
    "conn_data = sqlite3.connect(\"db.sqlite\")\n",
    "# Create a cursor object using the cursor method of \"conn.\"\n",
    "cursor_data = conn_data.cursor()\n",
    "# Save the changes.\n",
    "conn_data.commit()\n",
    "# Return all records from table \"Data\" in \"db.\" \n",
    "data = pd.read_sql_query('''\n",
    "                         SELECT *\n",
    "                         FROM main.Data\n",
    "                         ''', conn_data)\n",
    "# Close the connection.\n",
    "conn_data.close()"
   ]
  },
  {
   "cell_type": "code",
   "execution_count": null,
   "metadata": {},
   "outputs": [],
   "source": [
    "# Convert strings to datetime.\n",
    "data[\"Time\"] = pd.to_datetime(data[\"Time\"])\n",
    "Check data type.\n",
    "data.dtypes"
   ]
  },
  {
   "cell_type": "markdown",
   "metadata": {},
   "source": [
    "## 2.3. Import Excel Data"
   ]
  },
  {
   "cell_type": "code",
   "execution_count": null,
   "metadata": {},
   "outputs": [],
   "source": [
    "# Run excel in the background.\n",
    "xw.App().visible = False"
   ]
  },
  {
   "cell_type": "code",
   "execution_count": null,
   "metadata": {},
   "outputs": [],
   "source": [
    "# Detemine which workbook to activate.\n",
    "wb = xw.Book(\"performance.xlsm\")"
   ]
  },
  {
   "cell_type": "code",
   "execution_count": null,
   "metadata": {},
   "outputs": [],
   "source": [
    "# Activate a sheet based on sheet name.\n",
    "sheet1 = wb.sheets[\"Sheet1\"]\n",
    "sheet2 = wb.sheets[\"Sheet2\"]\n",
    "sheet3 = wb.sheets[\"Sheet3\"]\n",
    "sheet4 = wb.sheets[\"Sheet4\"]"
   ]
  },
  {
   "cell_type": "markdown",
   "metadata": {},
   "source": [
    "## 2.4. Compare Calculation Results"
   ]
  },
  {
   "cell_type": "markdown",
   "metadata": {},
   "source": [
    "### 2.4.1. Set Parameters"
   ]
  },
  {
   "cell_type": "code",
   "execution_count": null,
   "metadata": {},
   "outputs": [],
   "source": [
    "# \"a_list\" is a list of lists which contain \"major category\", \"intermediary category\" and \"subcategory\" sequentially.\n",
    "a_list = sheet1.range(\"B4:D99\").value"
   ]
  },
  {
   "cell_type": "code",
   "execution_count": null,
   "metadata": {},
   "outputs": [],
   "source": [
    "# Specify which month to be applied with calculation checking.\n",
    "today = \"2019/10/1\"\n",
    "last_y = \"2018/10/1\"\n",
    "last_m = \"2019/9/1\"\n",
    "\n",
    "# Get data of the given month from database.\n",
    "d_td = datetime.strptime(today, \"%Y/%m/%d\")\n",
    "d_ly = datetime.strptime(last_y, \"%Y/%m/%d\")\n",
    "d_lm = datetime.strptime(last_m, \"%Y/%m/%d\")\n",
    "\n",
    "# Get data of the given month from Excel.\n",
    "sheet2.range(\"E5\").value = today\n",
    "sheet2.range(\"E6\").value = last_y\n",
    "sheet2.range(\"E7\").value = last_m\n",
    "\n",
    "# Define channels and subchannels.\n",
    "channel_b = [\"Offline\", \"Online\"]\n",
    "channel_s = [\"Offline_A\", \"Offline_B\", \"Offline_Total\", \"Online_C\", \"Online_D\"]"
   ]
  },
  {
   "cell_type": "markdown",
   "metadata": {},
   "source": [
    "### 2.4.2. Check Monthly Sales Number"
   ]
  },
  {
   "cell_type": "code",
   "execution_count": null,
   "metadata": {},
   "outputs": [],
   "source": [
    "# Foe each category:\n",
    "for a in tqdm_notebook(a_list):\n",
    "    # \"a_list\" is a list of lists which contains \"major category\", \"intermediary category\" and \"subcategory\" sequentially.    \n",
    "    sheet2.range(\"H5\").value = a[0]\n",
    "    sheet2.range(\"H6\").value = a[1]\n",
    "    sheet2.range(\"H7\").value = a[2]\n",
    "    \n",
    "    # For each channel:\n",
    "    for cb in channel_b:\n",
    "        for cs in channel_s:      \n",
    "            sheet2.range(\"K6\").value = cb\n",
    "            sheet2.range(\"K7\").value = cs\n",
    "        \n",
    "            # Get monthly sales data from Excel.\n",
    "            excel_td = sheet2.range(\"E10\").value\n",
    "            excel_ly = sheet2.range(\"E11\").value\n",
    "            excel_lm = sheet2.range(\"E12\").value           \n",
    "\n",
    "            # Get monthly sales data from database.\n",
    "            sql_td_v = data[(data[\"Time\"] == d_td) & (data[\"Category\"] == a[2]) & (data[\"Channel\"] == cs)][\"Sales\"]\n",
    "            sql_ly_v = data[(data[\"Time\"] == d_ly) & (data[\"Category\"] == a[2]) & (data[\"Channel\"] == cs)][\"Sales\"]\n",
    "            sql_lm_v = data[(data[\"Time\"] == d_lm) & (data[\"Category\"] == a[2]) & (data[\"Channel\"] == cs)][\"Sales\"]\n",
    "            \n",
    "            if sql_td_v.empty or sql_ly_v.empty or sql_lm_v.empty:\n",
    "                continue\n",
    "            else:                \n",
    "                sql_td = float(sql_td_v)\n",
    "                sql_ly = float(sql_ly_v)\n",
    "                sql_lm = float(sql_lm_v)\n",
    "            \n",
    "            # Compare calculation results.\n",
    "            if (excel_td != sql_td) or (excel_ly != sql_ly) or (excel_lm != sql_lm):\n",
    "                print(\"Error!\")\n",
    "                print(\"Category:\", a[2])\n",
    "                print(\"Channel:\", cb)\n",
    "                print(\"Sub-Channel:\", cs) \n",
    "                print(\"Excel: Sales of This Month:\", excel_td) \n",
    "                print(\"Database: Sales of This Month:\", sql_td)\n",
    "                print(\"Excel: Sales of Last Year:\", excel_ly) \n",
    "                print(\"Database: Sales of Last Year:\", sql_ly)\n",
    "                print(\"Excel: Sales of Previous Month:\", excel_lm) \n",
    "                print(\"Database: Sales of Previous Month:\", sql_lm) \n",
    "                print(\"=================\")"
   ]
  },
  {
   "cell_type": "markdown",
   "metadata": {},
   "source": [
    "### 2.4.3.  Check Cumulative Sales Number"
   ]
  },
  {
   "cell_type": "code",
   "execution_count": null,
   "metadata": {},
   "outputs": [],
   "source": [
    "# Foe each category:\n",
    "for a in tqdm_notebook(a_list):    \n",
    "    \n",
    "    sheet2.range(\"H5\").value = a[0]\n",
    "    sheet2.range(\"H6\").value = a[1]\n",
    "    sheet2.range(\"H7\").value = a[2]\n",
    "    \n",
    "    # For each channel:\n",
    "    for cb in channel_b:\n",
    "        for cs in channel_s:      \n",
    "            sheet2.range(\"K6\").value = cb\n",
    "            sheet2.range(\"K7\").value = cs\n",
    "        \n",
    "            # Get cumulative sales data from Excel.\n",
    "            excel_ac_td = int(round(sheet2.range(\"E35\").value, 0))\n",
    "            excel_ac_ly = int(round(sheet2.range(\"E51\").value, 0))        \n",
    "\n",
    "            # Get cumulative sales data from SQLite database.\n",
    "            sql_ac_td = []\n",
    "            # i = 0,1,2,3,4,5,6,7,8,9\n",
    "            for i in range(d_td.month):\n",
    "                # date = 10-0=Oct, 10-1=Sep, 10-2=Aug, 10-3=Jul, 10-4=Jun, 10-5=May, 10-6=Apr, 10-7=Mar, 10-8=Feb, 10-9=Jan\n",
    "                date = d_td - relativedelta(months=i)\n",
    "                v = data[(data[\"Time\"] == date) & (data[\"Category\"] == a[2]) & (data[\"Channel\"] == cs)][\"Sales\"]                \n",
    "                if v.empty:\n",
    "                    sql_ac_td.append(v)\n",
    "                else:\n",
    "                    sql_ac_td.append(float(v))\n",
    "                  \n",
    "            sql_ac_ly = []\n",
    "            for i in range(d_ly.month):\n",
    "                date = d_ly - relativedelta(months=i)\n",
    "                v = data[(data[\"Time\"] == date) & (data[\"Category\"] == a[2]) & (data[\"Channel\"] == cs)][\"Sales\"]\n",
    "                if v.empty:\n",
    "                    sql_ac_ly.append(v)\n",
    "                else:\n",
    "                    sql_ac_ly.append(float(v))                             \n",
    "            \n",
    "            # Compare calculation results.            \n",
    "            # When there is an empty series in a list, summing elements of a list will return a series.\n",
    "            # Therefore, by checking if the datatpye of sum of elements in a list is series or not, \n",
    "            # we can confirm whether there is correspoing values of given properties.\n",
    "            if (type(sum(sql_ac_td)) == type(pd.Series([]))) or (type(sum(sql_ac_ly)) == type(pd.Series([]))):\n",
    "                continue\n",
    "            \n",
    "            if (excel_ac_td != int(round(sum(sql_ac_td), 0))) or (excel_ac_ly != int(round(sum(sql_ac_ly), 0))): \n",
    "                print(\"Error!\")\n",
    "                print(\"Category:\", a[2])\n",
    "                print(\"Channel:\", cb)\n",
    "                print(\"Sub-Channel:\", cs) \n",
    "                print(\"Excel: Cumulative Sales of This Year:\", excel_ac_td) \n",
    "                print(\"Excel: Cumulative Sales of Last Year:\", excel_ac_ly) \n",
    "                print(\"Database: Cumulative Sales of This Year:\", int(round(sum(sql_ac_td), 0)))\n",
    "                print(\"Database: Cumulative Sales of Last Year:\", int(round(sum(sql_ac_ly), 0)))              \n",
    "                print(\"=================\")"
   ]
  },
  {
   "cell_type": "markdown",
   "metadata": {},
   "source": [
    "# 3. Check Calculation\n",
    "- Check if the calculation run by VBA is correct by making the comparison with the results calculated by Excel formula."
   ]
  },
  {
   "cell_type": "code",
   "execution_count": null,
   "metadata": {},
   "outputs": [],
   "source": [
    "# Excel Sheet1: Calculation run by VBA\n",
    "# For each category:\n",
    "for a in tqdm_notebook(a_list):\n",
    "    # Find the location of each category and its corresponding monthly sales number.    \n",
    "    # Since \"api.UsedRange.Find\" only returns the location of the first string containing a specific substring,\n",
    "    # for those substrings shared by multiple categories, additional string matching has to be applied.\n",
    "    # Example: \"Headset\" and \"Bluetooth Headset\", \"Toothbrush\" and \"Electric Toothbrush\"     \n",
    "    if a[2] in ['Headset', 'Toothbrush']:\n",
    "        for index, value in enumerate(sheet3.range('B1:B120').value):\n",
    "            if value == a[2]:\n",
    "                offline = 'F' + str(index+1)\n",
    "                online = 'J' + str(index+1)\n",
    "                online_c = 'N' + str(index+1)\n",
    "                online_d = 'T' + str(index+1)\n",
    "    \n",
    "    else:\n",
    "        r = sheet3.api.UsedRange.Find(a[2])\n",
    "        if r == None:\n",
    "            continue\n",
    "        else:\n",
    "            s = sheet3.api.UsedRange.Find(a[2]).address\n",
    "            offline = 'F' + s.split('$B$')[1]\n",
    "            online = 'J' + s.split('$B$')[1]\n",
    "            online_c = 'N' + s.split('$B$')[1]\n",
    "            online_d = 'T' + s.split('$B$')[1]\n",
    "\n",
    "    vba_offline = round(sheet3.range(offline).value, 2)\n",
    "    vba_online = round(sheet3.range(online).value, 2)\n",
    "    vba_online_c = round(sheet3.range(online_c).value, 2)\n",
    "    vba_online_d = round(sheet3.range(online_d).value, 2)\n",
    "        \n",
    "    # Excel Sheet2: Calculation run by Formula\n",
    "    # Set category\n",
    "    sheet2.range('H5').value = a[0]\n",
    "    sheet2.range('H6').value = a[1]\n",
    "    sheet2.range('H7').value = a[2]   \n",
    "    \n",
    "    # Set channel\n",
    "    sheet2.range('K6').value = 'Offline'\n",
    "    sheet2.range('K7').value = 'Offline_Total'\n",
    "    formula_offline = round(sheet2.range('E13').value, 2)\n",
    "    \n",
    "    # Check each subcategory's corresponding monthly sales numbers.\n",
    "    sheet2.range('K6').value = 'Online'\n",
    "    sheet2.range('K7').value = 'Online_Total'\n",
    "    formula_online = round(sheet2.range('E13').value, 2)\n",
    "    sheet2.range('K7').value = 'Online_C'\n",
    "    formula_online_c = round(sheet2.range('E13').value, 2)\n",
    "    sheet2.range('K7').value = 'Online_D'  \n",
    "    formula_online_d = round(sheet2.range('E13').value, 2)\n",
    "    \n",
    "    # Compare calculation results.   \n",
    "    if (vba_offline != formula_offline) or (vba_online != formula_online) or \\\n",
    "       (vba_online_c != formula_online_c) or (vba_online_d != formula_online_d):\n",
    "            print(a[2]) \n",
    "            print(vba_offline, formula_offline)\n",
    "            print(vba_online, formula_online)\n",
    "            print(vba_online_c, formula_online_c)\n",
    "            print(vba_online_d, formula_online_d)"
   ]
  },
  {
   "cell_type": "markdown",
   "metadata": {},
   "source": [
    "# 4. Check Data Location\n",
    "- Check if monthly sales related numbers of given category are shown at the desired cells."
   ]
  },
  {
   "cell_type": "code",
   "execution_count": null,
   "metadata": {},
   "outputs": [],
   "source": [
    "# Get sales numbers of corresponding category from Excel Sheet1.\n",
    "def sheet1_get_sales(sheet, col, index):\n",
    "    a = sheet.range(col + str(index + 21)).value\n",
    "    b = sheet.range(col + str(index + 23)).value\n",
    "    return a, b"
   ]
  },
  {
   "cell_type": "code",
   "execution_count": null,
   "metadata": {},
   "outputs": [],
   "source": [
    "# Get market shares of corresponding category from Excel Sheet1.\n",
    "def sheet1_get_share(sheet, col, index):\n",
    "    a = sheet.range(col + str(index + 21)).value\n",
    "    b = sheet.range(col + str(index + 22)).value\n",
    "    c = sheet.range(col + str(index + 23)).value\n",
    "    d = sheet.range(col + str(index + 24)).value\n",
    "    return a, b, c, d"
   ]
  },
  {
   "cell_type": "code",
   "execution_count": null,
   "metadata": {},
   "outputs": [],
   "source": [
    "# Get sales numbers and market shares of corresponding category from Excel Sheet2.\n",
    "def sheet2_get_nums(sheet, item):\n",
    "    sheet.range('K7').value = item\n",
    "    a = sheet.range('H12').value\n",
    "    b = sheet.range('K12').value\n",
    "    c = sheet.range('H20').value\n",
    "    d = sheet.range('K20').value\n",
    "    e = sheet.range('H19').value\n",
    "    f = sheet.range('K19').value\n",
    "    g = sheet.range('E10').value\n",
    "    h = sheet.range('E14').value\n",
    "    i = sheet.range('E13').value  \n",
    "    return a, b, c, d, e, f, g, h, i"
   ]
  },
  {
   "cell_type": "code",
   "execution_count": null,
   "metadata": {},
   "outputs": [],
   "source": [
    "# Compare numbers derived from Excel Sheet1 and Sheet2 to verify calculated results are at the desired locations.\n",
    "def check(data1, data2):\n",
    "    if data1 != data2:\n",
    "        print(data1, data2)  "
   ]
  },
  {
   "cell_type": "code",
   "execution_count": null,
   "metadata": {},
   "outputs": [],
   "source": [
    "# Excel Sheet1: How the results are presented.\n",
    "index = 37\n",
    "sheet = sheet4\n",
    "\n",
    "# Excel Sheet2: Set specific time, channel and category to get corresponding numbers.\n",
    "# \"b_list\" is a list of lists which contain \"major category\", \"intermediary category\" and \"subcategory\" sequentially.\n",
    "b_list_index = 0\n",
    "\n",
    "# Excel Sheet1: \n",
    "# Set category\n",
    "# \"c_list\" is a list of lists which contain \"intermediary category\" and \"subcategory\" sequentially.\n",
    "for c in c_list:\n",
    "    for i in tqdm_notebook(c):        \n",
    "        sheet.range('T' + str(index)).value = i\n",
    "\n",
    "        # Get market shares\n",
    "        sheet1_online_c_online_share, sheet1_online_d_online_share, \\\n",
    "        sheet1_online_c_panel_share, sheet1_online_d_panel_share = get_share(sheet, 'V', index)\n",
    "\n",
    "        # Get Month-over-Month growth rate of market shares\n",
    "        sheet1_online_c_online_share_mom, sheet1_online_d_online_share_mom, \\\n",
    "        sheet1_online_c_panel_share_mom, sheet1_online_d_panel_share_mom = sheet1_get_share(sheet, 'X', index)        \n",
    "\n",
    "        # Get Year-over-Year growth rate of market shares\n",
    "        sheet1_online_c_online_share_yoy, sheet1_online_d_online_share_yoy, \\\n",
    "        sheet1_online_c_panel_share_yoy, sheet1_online_d_panel_share_yoy = sheet1_get_share(sheet, 'Z', index)\n",
    "\n",
    "        # Get sales numbers\n",
    "        sheet1_offline_c_sales, sheet1_offline_d_sales = sheet1_get_sales(sheet, 'AD', index)\n",
    "\n",
    "        # Get Month-over-Month growth rate of sales\n",
    "        sheet1_online_c_sales_mom, sheet1_online_d_sales_mom = sheet1_get_sales(sheet, 'AF', index)\n",
    "\n",
    "        # Get Year-over-Year growth rate of sales\n",
    "        sheet1_online_c_sales_yoy, sheet1_online_d_sales_yoy = sheet1_get_sales(sheet, 'AH', index)       \n",
    "\n",
    "        # Excel Sheet2:\n",
    "        # Set category\n",
    "        sheet2.range('H5').value = b_list[b_list_index][0] \n",
    "        sheet2.range('H6').value = b_list[b_list_index][1]\n",
    "        sheet2.range('H7').value = b_list[b_list_index][2]\n",
    "        \n",
    "        # Get sales numbers and market shares of corresponding category sold via offline_c.\n",
    "        sheet2_online_c_online_share, sheet2_online_c_panel_share, \\\n",
    "        sheet2_online_c_online_share_mom, sheet2_online_c_pannel_share_mom, \\\n",
    "        sheet2_online_c_online_share_yoy, sheet2_online_c_pannel_share_yoy, \\\n",
    "        sheet2_online_c_sales, sheet2_online_c_sales_mom, sheet2_online_c_sales_yoy = sheet2_get_nums(sheet2, 'Offline_C')\n",
    "\n",
    "        # Get sales numbers and market shares of corresponding category sold via offline_d.\n",
    "        sheet2_online_d_online_share, sheet2_online_d_panel_share, \\\n",
    "        sheet2_online_d_online_share_mom, sheet2_online_d_pannel_share_mom, \\\n",
    "        sheet2_online_d_online_share_yoy, sheet2_online_d_pannel_share_yoy, \\\n",
    "        sheet2_online_d_sales, sheet2_online_d_sales_mom, sheet2_online_d_sales_yoy = sheet2_get_nums(sheet2, 'Offline_C')\n",
    "\n",
    "        # Compare results derived from 2 sheets.\n",
    "        check(round(sheet1_online_d_online_share, 4), round(sheet2_online_d_online_share, 4))\n",
    "        check(round(sheet1_online_c_panel_share, 4), round(sheet2_online_c_panel_share, 4))\n",
    "        check(round(sheet1_online_c_online_share_mom, 4), round(sheet2_online_c_online_share_mom, 4))\n",
    "        check(round(sheet1_online_c_pannel_share_mom 4), round(sheet2_online_c_pannel_share_mom, 4))\n",
    "        check(round(sheet1_online_c_online_share_yoy, 4), round(sheet2_online_c_online_share_yoy, 4))\n",
    "        check(round(sheet1_online_c_pannel_share_yoy, 4), round(sheet2_online_c_pannel_share_yoy, 4))\n",
    "        check(round(sheet1_online_c_sales, 4), round(sheet2_online_c_sales, 4))\n",
    "        check(round(sheet1_online_c_sales_mom, 4), round(sheet2_online_c_sales_mom, 4))\n",
    "        check(round(sheet1_online_c_sales_yoy, 4), round(sheet2_online_c_sales_yoy, 4))\n",
    "        \n",
    "        check(round(sheet1_online_d_online_share, 4), round(sheet2_online_d_online_share, 4))\n",
    "        check(round(sheet1_online_d_panel_share, 4), round(sheet2_online_d_panel_share, 4))\n",
    "        check(round(sheet1_online_d_online_share_mom, 4), round(sheet2_online_d_online_share_mom, 4))\n",
    "        check(round(sheet1_online_d_pannel_share_mom, 4), round(sheet2_online_d_pannel_share_mom, 4))\n",
    "        check(round(sheet1_online_d_online_share_yoy, 4), round(sheet2_online_d_online_share_yoy, 4))\n",
    "        check(round(sheet1_online_d_pannel_share_yoy, 4), round(sheet2_online_d_pannel_share_yoy, 4))\n",
    "        check(round(sheet1_online_d_sales, 4), round(sheet2_online_d_sales, 4))\n",
    "        check(round(sheet1_online_d_sales_mom, 4), round(sheet2_online_d_sales_mom, 4))\n",
    "        check(round(sheet1_online_d_sales_yoy, 4), round(sheet2_online_d_sales_yoy, 4))\n",
    "    \n",
    "        # Move to next \"subcategory\"\n",
    "        b_list_index = b_list_index + 1\n",
    "    # Move to next \"intermediary category\" \n",
    "    index = index + 28    "
   ]
  }
 ],
 "metadata": {
  "kernelspec": {
   "display_name": "Python 3",
   "language": "python",
   "name": "python3"
  },
  "language_info": {
   "codemirror_mode": {
    "name": "ipython",
    "version": 3
   },
   "file_extension": ".py",
   "mimetype": "text/x-python",
   "name": "python",
   "nbconvert_exporter": "python",
   "pygments_lexer": "ipython3",
   "version": "3.6.5"
  }
 },
 "nbformat": 4,
 "nbformat_minor": 2
}
