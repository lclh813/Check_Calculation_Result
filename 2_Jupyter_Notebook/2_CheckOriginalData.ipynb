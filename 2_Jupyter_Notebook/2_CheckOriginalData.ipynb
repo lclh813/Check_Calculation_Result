{
 "cells": [
  {
   "cell_type": "markdown",
   "metadata": {},
   "source": [
    "# 2. Check Original Data\n",
    "- Check if the original data is imported into Excel correctly."
   ]
  },
  {
   "cell_type": "markdown",
   "metadata": {},
   "source": [
    "## 2.1. Create Database"
   ]
  },
  {
   "cell_type": "code",
   "execution_count": null,
   "metadata": {},
   "outputs": [],
   "source": [
    "# Define Function to Execute Database Commands.\n",
    "def execute_db(fname, sql_cmd):\n",
    "    # Establish a connection to SQLite database by creating a connection object \"conn.\"\n",
    "    conn = sqlite3.connect(fname)\n",
    "    # Create a cursor object using the cursor method of \"conn.\"\n",
    "    c = conn.cursor()\n",
    "    # Call the cursor’s execute method. \n",
    "    c.execute(sql_cmd)\n",
    "    # Save the changes.\n",
    "    conn.commit()\n",
    "    # Close the connection.\n",
    "    conn.close()"
   ]
  },
  {
   "cell_type": "code",
   "execution_count": null,
   "metadata": {},
   "outputs": [],
   "source": [
    "# Define Function to Select Data from Database.\n",
    "def select_db(fname, sql_cmd):\n",
    "    # Establish a connection to SQLite database by creating a connection object \"conn.\"\n",
    "    conn = sqlite3.connect(fname)\n",
    "    # Create a cursor object using the cursor method of \"conn.\"\n",
    "    c = conn.cursor()\n",
    "    # Call the cursor’s execute method. \n",
    "    c.execute(sql_cmd)\n",
    "    # Fetch all rows of a query result.\n",
    "    rows = c.fetchall()\n",
    "    # Close the connection.\n",
    "    conn.close()\n",
    "    # Return query results. \n",
    "    return rows"
   ]
  },
  {
   "cell_type": "code",
   "execution_count": null,
   "metadata": {},
   "outputs": [],
   "source": [
    "# Create a Blank Database\n",
    "# Create a SQLite database file named \"db.\" \n",
    "db_name = \"db.sqlite\"\n",
    "# Create a table named \"Data.\"\n",
    "cmd = (\"CREATE TABLE Data \"\n",
    "       \"(id INTEGER PRIMARY KEY AUTOINCREMENT, \"\n",
    "       \"Time DATETIME, Category TEXT, Channel TEXT, Sales REAL)\")\n",
    "# Execute function \"execute_db\" with \"db_name\" and \"sql_cmd\" being specified. \n",
    "execute_db(db_name, cmd)"
   ]
  },
  {
   "cell_type": "code",
   "execution_count": null,
   "metadata": {},
   "outputs": [],
   "source": [
    "# Import Data into Database\n",
    "# Find all files in the specific directory. \n",
    "files = glob.glob(\"G:\\\\Data1\\\\*.xls\")\n",
    "\n",
    "for file in files:\n",
    "    # Import data from all the xls files. \n",
    "    data = pd.read_excel(file)\n",
    "    # Establish a connection to SQLite database \"db.\"\n",
    "    con = sqlite3.connect(\"db.sqlite\")\n",
    "    # Write records stored in dataframe \"data\" to table \"Data\" in SQLite database \"db.\"\n",
    "    # If table \"Data\" already exists, insert new values to the existing table.\n",
    "    data.to_sql(\"Data\", con, index = False, if_exists = \"append\")\n",
    "    # Save the changes.\n",
    "    con.commit()\n",
    "    # Close the connection.\n",
    "    con.close() "
   ]
  },
  {
   "cell_type": "markdown",
   "metadata": {},
   "source": [
    "## 2.2. Import Database Data"
   ]
  },
  {
   "cell_type": "code",
   "execution_count": null,
   "metadata": {},
   "outputs": [],
   "source": [
    "# Establish a connection to SQLite database \"db.\"\n",
    "conn_data = sqlite3.connect(\"db.sqlite\")\n",
    "# Create a cursor object using the cursor method of \"conn.\"\n",
    "cursor_data = conn_data.cursor()\n",
    "# Save the changes.\n",
    "conn_data.commit()\n",
    "# Return all records from table \"Data\" in \"db.\" \n",
    "data = pd.read_sql_query('''\n",
    "                         SELECT *\n",
    "                         FROM main.Data\n",
    "                         ''', conn_data)\n",
    "# Close the connection.\n",
    "conn_data.close()"
   ]
  },
  {
   "cell_type": "code",
   "execution_count": null,
   "metadata": {},
   "outputs": [],
   "source": [
    "# Convert strings to datetime.\n",
    "data[\"Time\"] = pd.to_datetime(data[\"Time\"])\n",
    "Check data type.\n",
    "data.dtypes"
   ]
  },
  {
   "cell_type": "markdown",
   "metadata": {},
   "source": [
    "## 2.3. Import Excel Data"
   ]
  },
  {
   "cell_type": "code",
   "execution_count": null,
   "metadata": {},
   "outputs": [],
   "source": [
    "# Run excel in the background.\n",
    "xw.App().visible = False"
   ]
  },
  {
   "cell_type": "code",
   "execution_count": null,
   "metadata": {},
   "outputs": [],
   "source": [
    "# Detemine which workbook to activate.\n",
    "wb = xw.Book(\"performance.xlsm\")"
   ]
  },
  {
   "cell_type": "code",
   "execution_count": null,
   "metadata": {},
   "outputs": [],
   "source": [
    "# Activate a sheet based on sheet name.\n",
    "sheet1 = wb.sheets[\"Sheet1\"]\n",
    "sheet2 = wb.sheets[\"Sheet2\"]\n",
    "sheet3 = wb.sheets[\"Sheet3\"]\n",
    "sheet4 = wb.sheets[\"Sheet4\"]"
   ]
  },
  {
   "cell_type": "markdown",
   "metadata": {},
   "source": [
    "## 2.4. Compare Calculation Results"
   ]
  },
  {
   "cell_type": "markdown",
   "metadata": {},
   "source": [
    "### 2.4.1. Set Parameters"
   ]
  },
  {
   "cell_type": "code",
   "execution_count": null,
   "metadata": {},
   "outputs": [],
   "source": [
    "# \"a_list\" is a list of lists which contain \"major category\", \"intermediary category\" and \"subcategory\" sequentially.\n",
    "a_list = sheet1.range(\"B4:D99\").value"
   ]
  },
  {
   "cell_type": "code",
   "execution_count": null,
   "metadata": {},
   "outputs": [],
   "source": [
    "# Specify which month to be applied with calculation checking.\n",
    "today = \"2019/10/1\"\n",
    "last_y = \"2018/10/1\"\n",
    "last_m = \"2019/9/1\"\n",
    "\n",
    "# Get data of the given month from database.\n",
    "d_td = datetime.strptime(today, \"%Y/%m/%d\")\n",
    "d_ly = datetime.strptime(last_y, \"%Y/%m/%d\")\n",
    "d_lm = datetime.strptime(last_m, \"%Y/%m/%d\")\n",
    "\n",
    "# Get data of the given month from Excel.\n",
    "sheet2.range(\"E5\").value = today\n",
    "sheet2.range(\"E6\").value = last_y\n",
    "sheet2.range(\"E7\").value = last_m\n",
    "\n",
    "# Define channels and subchannels.\n",
    "channel_b = [\"Offline\", \"Online\"]\n",
    "channel_s = [\"Offline_A\", \"Offline_B\", \"Offline_Total\", \"Online_C\", \"Online_D\"]"
   ]
  },
  {
   "cell_type": "markdown",
   "metadata": {},
   "source": [
    "### 2.4.2. Check Monthly Sales Number"
   ]
  },
  {
   "cell_type": "code",
   "execution_count": null,
   "metadata": {},
   "outputs": [],
   "source": [
    "# Foe each category:\n",
    "for a in tqdm_notebook(a_list):\n",
    "    # \"a_list\" is a list of lists which contains \"major category\", \"intermediary category\" and \"subcategory\" sequentially.    \n",
    "    sheet2.range(\"H5\").value = a[0]\n",
    "    sheet2.range(\"H6\").value = a[1]\n",
    "    sheet2.range(\"H7\").value = a[2]\n",
    "    \n",
    "    # For each channel:\n",
    "    for cb in channel_b:\n",
    "        for cs in channel_s:      \n",
    "            sheet2.range(\"K6\").value = cb\n",
    "            sheet2.range(\"K7\").value = cs\n",
    "        \n",
    "            # Get monthly sales data from Excel.\n",
    "            excel_td = sheet2.range(\"E10\").value\n",
    "            excel_ly = sheet2.range(\"E11\").value\n",
    "            excel_lm = sheet2.range(\"E12\").value           \n",
    "\n",
    "            # Get monthly sales data from database.\n",
    "            sql_td_v = data[(data[\"Time\"] == d_td) & (data[\"Category\"] == a[2]) & (data[\"Channel\"] == cs)][\"Sales\"]\n",
    "            sql_ly_v = data[(data[\"Time\"] == d_ly) & (data[\"Category\"] == a[2]) & (data[\"Channel\"] == cs)][\"Sales\"]\n",
    "            sql_lm_v = data[(data[\"Time\"] == d_lm) & (data[\"Category\"] == a[2]) & (data[\"Channel\"] == cs)][\"Sales\"]\n",
    "            \n",
    "            if sql_td_v.empty or sql_ly_v.empty or sql_lm_v.empty:\n",
    "                continue\n",
    "            else:                \n",
    "                sql_td = float(sql_td_v)\n",
    "                sql_ly = float(sql_ly_v)\n",
    "                sql_lm = float(sql_lm_v)\n",
    "            \n",
    "            # Compare calculation results.\n",
    "            if (excel_td != sql_td) or (excel_ly != sql_ly) or (excel_lm != sql_lm):\n",
    "                print(\"Error!\")\n",
    "                print(\"Category:\", a[2])\n",
    "                print(\"Channel:\", cb)\n",
    "                print(\"Sub-Channel:\", cs) \n",
    "                print(\"Excel: Sales of This Month:\", excel_td) \n",
    "                print(\"Database: Sales of This Month:\", sql_td)\n",
    "                print(\"Excel: Sales of Last Year:\", excel_ly) \n",
    "                print(\"Database: Sales of Last Year:\", sql_ly)\n",
    "                print(\"Excel: Sales of Previous Month:\", excel_lm) \n",
    "                print(\"Database: Sales of Previous Month:\", sql_lm) \n",
    "                print(\"=================\")"
   ]
  },
  {
   "cell_type": "markdown",
   "metadata": {},
   "source": [
    "### 2.4.3.  Check Cumulative Sales Number"
   ]
  },
  {
   "cell_type": "code",
   "execution_count": null,
   "metadata": {},
   "outputs": [],
   "source": [
    "# Foe each category:\n",
    "for a in tqdm_notebook(a_list):    \n",
    "    \n",
    "    sheet2.range(\"H5\").value = a[0]\n",
    "    sheet2.range(\"H6\").value = a[1]\n",
    "    sheet2.range(\"H7\").value = a[2]\n",
    "    \n",
    "    # For each channel:\n",
    "    for cb in channel_b:\n",
    "        for cs in channel_s:      \n",
    "            sheet2.range(\"K6\").value = cb\n",
    "            sheet2.range(\"K7\").value = cs\n",
    "        \n",
    "            # Get cumulative sales data from Excel.\n",
    "            excel_ac_td = int(round(sheet2.range(\"E35\").value, 0))\n",
    "            excel_ac_ly = int(round(sheet2.range(\"E51\").value, 0))        \n",
    "\n",
    "            # Get cumulative sales data from SQLite database.\n",
    "            sql_ac_td = []\n",
    "            # i = 0,1,2,3,4,5,6,7,8,9\n",
    "            for i in range(d_td.month):\n",
    "                # date = 10-0=Oct, 10-1=Sep, 10-2=Aug, 10-3=Jul, 10-4=Jun, 10-5=May, 10-6=Apr, 10-7=Mar, 10-8=Feb, 10-9=Jan\n",
    "                date = d_td - relativedelta(months=i)\n",
    "                v = data[(data[\"Time\"] == date) & (data[\"Category\"] == a[2]) & (data[\"Channel\"] == cs)][\"Sales\"]                \n",
    "                if v.empty:\n",
    "                    sql_ac_td.append(v)\n",
    "                else:\n",
    "                    sql_ac_td.append(float(v))\n",
    "                  \n",
    "            sql_ac_ly = []\n",
    "            for i in range(d_ly.month):\n",
    "                date = d_ly - relativedelta(months=i)\n",
    "                v = data[(data[\"Time\"] == date) & (data[\"Category\"] == a[2]) & (data[\"Channel\"] == cs)][\"Sales\"]\n",
    "                if v.empty:\n",
    "                    sql_ac_ly.append(v)\n",
    "                else:\n",
    "                    sql_ac_ly.append(float(v))                             \n",
    "            \n",
    "            # Compare calculation results.            \n",
    "            # When there is an empty series in a list, summing elements of a list will return a series.\n",
    "            # Therefore, by checking if the datatpye of sum of elements in a list is series or not, \n",
    "            # we can confirm whether there is correspoing values of given properties.\n",
    "            if (type(sum(sql_ac_td)) == type(pd.Series([]))) or (type(sum(sql_ac_ly)) == type(pd.Series([]))):\n",
    "                continue\n",
    "            \n",
    "            if (excel_ac_td != int(round(sum(sql_ac_td), 0))) or (excel_ac_ly != int(round(sum(sql_ac_ly), 0))): \n",
    "                print(\"Error!\")\n",
    "                print(\"Category:\", a[2])\n",
    "                print(\"Channel:\", cb)\n",
    "                print(\"Sub-Channel:\", cs) \n",
    "                print(\"Excel: Cumulative Sales of This Year:\", excel_ac_td) \n",
    "                print(\"Excel: Cumulative Sales of Last Year:\", excel_ac_ly) \n",
    "                print(\"Database: Cumulative Sales of This Year:\", int(round(sum(sql_ac_td), 0)))\n",
    "                print(\"Database: Cumulative Sales of Last Year:\", int(round(sum(sql_ac_ly), 0)))              \n",
    "                print(\"=================\")"
   ]
  }
 ],
 "metadata": {
  "kernelspec": {
   "display_name": "Python 3",
   "language": "python",
   "name": "python3"
  },
  "language_info": {
   "codemirror_mode": {
    "name": "ipython",
    "version": 3
   },
   "file_extension": ".py",
   "mimetype": "text/x-python",
   "name": "python",
   "nbconvert_exporter": "python",
   "pygments_lexer": "ipython3",
   "version": "3.6.5"
  }
 },
 "nbformat": 4,
 "nbformat_minor": 2
}
