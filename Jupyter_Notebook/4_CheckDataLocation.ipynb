{
 "cells": [
  {
   "cell_type": "markdown",
   "metadata": {},
   "source": [
    "# 4. Check Data Location\n",
    "- Check if monthly sales related numbers of given category are shown at the desired cells."
   ]
  },
  {
   "cell_type": "code",
   "execution_count": null,
   "metadata": {},
   "outputs": [],
   "source": [
    "# Get sales numbers of corresponding category from Excel Sheet1.\n",
    "def sheet1_get_sales(sheet, col, index):\n",
    "    a = sheet.range(col + str(index + 21)).value\n",
    "    b = sheet.range(col + str(index + 23)).value\n",
    "    return a, b"
   ]
  },
  {
   "cell_type": "code",
   "execution_count": null,
   "metadata": {},
   "outputs": [],
   "source": [
    "# Get market shares of corresponding category from Excel Sheet1.\n",
    "def sheet1_get_share(sheet, col, index):\n",
    "    a = sheet.range(col + str(index + 21)).value\n",
    "    b = sheet.range(col + str(index + 22)).value\n",
    "    c = sheet.range(col + str(index + 23)).value\n",
    "    d = sheet.range(col + str(index + 24)).value\n",
    "    return a, b, c, d"
   ]
  },
  {
   "cell_type": "code",
   "execution_count": null,
   "metadata": {},
   "outputs": [],
   "source": [
    "# Get sales numbers and market shares of corresponding category from Excel Sheet2.\n",
    "def sheet2_get_nums(sheet, item):\n",
    "    sheet.range('K7').value = item\n",
    "    a = sheet.range('H12').value\n",
    "    b = sheet.range('K12').value\n",
    "    c = sheet.range('H20').value\n",
    "    d = sheet.range('K20').value\n",
    "    e = sheet.range('H19').value\n",
    "    f = sheet.range('K19').value\n",
    "    g = sheet.range('E10').value\n",
    "    h = sheet.range('E14').value\n",
    "    i = sheet.range('E13').value  \n",
    "    return a, b, c, d, e, f, g, h, i"
   ]
  },
  {
   "cell_type": "code",
   "execution_count": null,
   "metadata": {},
   "outputs": [],
   "source": [
    "# Compare numbers derived from Excel Sheet1 and Sheet2 to verify calculated results are at the desired locations.\n",
    "def check(data1, data2):\n",
    "    if data1 != data2:\n",
    "        print(data1, data2)  "
   ]
  },
  {
   "cell_type": "code",
   "execution_count": null,
   "metadata": {},
   "outputs": [],
   "source": [
    "# Excel Sheet1: How the results are presented.\n",
    "index = 37\n",
    "sheet = sheet4\n",
    "\n",
    "# Excel Sheet2: Set specific time, channel and category to get corresponding numbers.\n",
    "# \"b_list\" is a list of lists which contain \"major category\", \"intermediary category\" and \"subcategory\" sequentially.\n",
    "b_list_index = 0\n",
    "\n",
    "# Excel Sheet1: \n",
    "# Set category\n",
    "# \"c_list\" is a list of lists which contain \"intermediary category\" and \"subcategory\" sequentially.\n",
    "for c in c_list:\n",
    "    for i in tqdm_notebook(c):        \n",
    "        sheet.range('T' + str(index)).value = i\n",
    "\n",
    "        # Get market shares\n",
    "        sheet1_online_c_online_share, sheet1_online_d_online_share, \\\n",
    "        sheet1_online_c_panel_share, sheet1_online_d_panel_share = get_share(sheet, 'V', index)\n",
    "\n",
    "        # Get Month-over-Month growth rate of market shares\n",
    "        sheet1_online_c_online_share_mom, sheet1_online_d_online_share_mom, \\\n",
    "        sheet1_online_c_panel_share_mom, sheet1_online_d_panel_share_mom = sheet1_get_share(sheet, 'X', index)        \n",
    "\n",
    "        # Get Year-over-Year growth rate of market shares\n",
    "        sheet1_online_c_online_share_yoy, sheet1_online_d_online_share_yoy, \\\n",
    "        sheet1_online_c_panel_share_yoy, sheet1_online_d_panel_share_yoy = sheet1_get_share(sheet, 'Z', index)\n",
    "\n",
    "        # Get sales numbers\n",
    "        sheet1_offline_c_sales, sheet1_offline_d_sales = sheet1_get_sales(sheet, 'AD', index)\n",
    "\n",
    "        # Get Month-over-Month growth rate of sales\n",
    "        sheet1_online_c_sales_mom, sheet1_online_d_sales_mom = sheet1_get_sales(sheet, 'AF', index)\n",
    "\n",
    "        # Get Year-over-Year growth rate of sales\n",
    "        sheet1_online_c_sales_yoy, sheet1_online_d_sales_yoy = sheet1_get_sales(sheet, 'AH', index)       \n",
    "\n",
    "        # Excel Sheet2:\n",
    "        # Set category\n",
    "        sheet2.range('H5').value = b_list[b_list_index][0] \n",
    "        sheet2.range('H6').value = b_list[b_list_index][1]\n",
    "        sheet2.range('H7').value = b_list[b_list_index][2]\n",
    "        \n",
    "        # Get sales numbers and market shares of corresponding category sold via offline_c.\n",
    "        sheet2_online_c_online_share, sheet2_online_c_panel_share, \\\n",
    "        sheet2_online_c_online_share_mom, sheet2_online_c_pannel_share_mom, \\\n",
    "        sheet2_online_c_online_share_yoy, sheet2_online_c_pannel_share_yoy, \\\n",
    "        sheet2_online_c_sales, sheet2_online_c_sales_mom, sheet2_online_c_sales_yoy = sheet2_get_nums(sheet2, 'Offline_C')\n",
    "\n",
    "        # Get sales numbers and market shares of corresponding category sold via offline_d.\n",
    "        sheet2_online_d_online_share, sheet2_online_d_panel_share, \\\n",
    "        sheet2_online_d_online_share_mom, sheet2_online_d_pannel_share_mom, \\\n",
    "        sheet2_online_d_online_share_yoy, sheet2_online_d_pannel_share_yoy, \\\n",
    "        sheet2_online_d_sales, sheet2_online_d_sales_mom, sheet2_online_d_sales_yoy = sheet2_get_nums(sheet2, 'Offline_C')\n",
    "\n",
    "        # Compare results derived from 2 sheets.\n",
    "        check(round(sheet1_online_d_online_share, 4), round(sheet2_online_d_online_share, 4))\n",
    "        check(round(sheet1_online_c_panel_share, 4), round(sheet2_online_c_panel_share, 4))\n",
    "        check(round(sheet1_online_c_online_share_mom, 4), round(sheet2_online_c_online_share_mom, 4))\n",
    "        check(round(sheet1_online_c_pannel_share_mom 4), round(sheet2_online_c_pannel_share_mom, 4))\n",
    "        check(round(sheet1_online_c_online_share_yoy, 4), round(sheet2_online_c_online_share_yoy, 4))\n",
    "        check(round(sheet1_online_c_pannel_share_yoy, 4), round(sheet2_online_c_pannel_share_yoy, 4))\n",
    "        check(round(sheet1_online_c_sales, 4), round(sheet2_online_c_sales, 4))\n",
    "        check(round(sheet1_online_c_sales_mom, 4), round(sheet2_online_c_sales_mom, 4))\n",
    "        check(round(sheet1_online_c_sales_yoy, 4), round(sheet2_online_c_sales_yoy, 4))\n",
    "        \n",
    "        check(round(sheet1_online_d_online_share, 4), round(sheet2_online_d_online_share, 4))\n",
    "        check(round(sheet1_online_d_panel_share, 4), round(sheet2_online_d_panel_share, 4))\n",
    "        check(round(sheet1_online_d_online_share_mom, 4), round(sheet2_online_d_online_share_mom, 4))\n",
    "        check(round(sheet1_online_d_pannel_share_mom, 4), round(sheet2_online_d_pannel_share_mom, 4))\n",
    "        check(round(sheet1_online_d_online_share_yoy, 4), round(sheet2_online_d_online_share_yoy, 4))\n",
    "        check(round(sheet1_online_d_pannel_share_yoy, 4), round(sheet2_online_d_pannel_share_yoy, 4))\n",
    "        check(round(sheet1_online_d_sales, 4), round(sheet2_online_d_sales, 4))\n",
    "        check(round(sheet1_online_d_sales_mom, 4), round(sheet2_online_d_sales_mom, 4))\n",
    "        check(round(sheet1_online_d_sales_yoy, 4), round(sheet2_online_d_sales_yoy, 4))\n",
    "    \n",
    "        # Move to next \"subcategory\"\n",
    "        b_list_index = b_list_index + 1\n",
    "    # Move to next \"intermediary category\" \n",
    "    index = index + 28    "
   ]
  }
 ],
 "metadata": {
  "kernelspec": {
   "display_name": "Python 3",
   "language": "python",
   "name": "python3"
  },
  "language_info": {
   "codemirror_mode": {
    "name": "ipython",
    "version": 3
   },
   "file_extension": ".py",
   "mimetype": "text/x-python",
   "name": "python",
   "nbconvert_exporter": "python",
   "pygments_lexer": "ipython3",
   "version": "3.6.5"
  }
 },
 "nbformat": 4,
 "nbformat_minor": 2
}
